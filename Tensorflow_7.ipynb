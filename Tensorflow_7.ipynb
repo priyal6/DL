{
  "nbformat": 4,
  "nbformat_minor": 0,
  "metadata": {
    "colab": {
      "provenance": [],
      "authorship_tag": "ABX9TyPUSFKm0M9bZxJCqNMc9l84",
      "include_colab_link": true
    },
    "kernelspec": {
      "name": "python3",
      "display_name": "Python 3"
    },
    "language_info": {
      "name": "python"
    }
  },
  "cells": [
    {
      "cell_type": "markdown",
      "metadata": {
        "id": "view-in-github",
        "colab_type": "text"
      },
      "source": [
        "<a href=\"https://colab.research.google.com/github/priyal6/DL/blob/main/Tensorflow_7.ipynb\" target=\"_parent\"><img src=\"https://colab.research.google.com/assets/colab-badge.svg\" alt=\"Open In Colab\"/></a>"
      ]
    },
    {
      "cell_type": "code",
      "execution_count": null,
      "metadata": {
        "id": "_3eMKxt1rJeV"
      },
      "outputs": [],
      "source": [
        "import tensorflow as tf\n",
        "from tensorflow import keras\n",
        "from tensorflow.keras import layers, regularizers\n",
        "from tensorflow.keras.datasets import mnist\n",
        "\n",
        "# Use Pandas to load dataset from csv file\n",
        "import pandas as pd\n"
      ]
    },
    {
      "cell_type": "code",
      "source": [
        "inputs = keras. Input(shape=(64,64,1))\n",
        "x = layers.Conv2D(\n",
        "    filters = 32,\n",
        "    kernel_size = 3,\n",
        "    padding = 'same',\n",
        "    kernel_regularizer = regularizerl2(WEIGHT_DECAY),\n",
        "\n",
        ") (inputs)\n",
        "x = layers.BatchNormalization()(x)\n",
        "x = keras.activation.relu(x)\n",
        "x = layers.Conv2D(\n",
        "    64,3, kernel_regularizers.l2(WEIGHT_DECAY),\n",
        ")(x)\n",
        "\n",
        "x = layers.BatchNormalization()(x)\n",
        "x = keras.activations.relu(x)\n",
        "x = layers.MaxPooling2D()(x)\n",
        "X = layers.Conv2D"
      ],
      "metadata": {
        "id": "80FH_ow8r97M"
      },
      "execution_count": null,
      "outputs": []
    }
  ]
}