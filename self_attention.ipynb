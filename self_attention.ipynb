{
  "nbformat": 4,
  "nbformat_minor": 0,
  "metadata": {
    "colab": {
      "provenance": [],
      "authorship_tag": "ABX9TyP421uAufJmVtzj3PuvAtyU",
      "include_colab_link": true
    },
    "kernelspec": {
      "name": "python3",
      "display_name": "Python 3"
    },
    "language_info": {
      "name": "python"
    }
  },
  "cells": [
    {
      "cell_type": "markdown",
      "metadata": {
        "id": "view-in-github",
        "colab_type": "text"
      },
      "source": [
        "<a href=\"https://colab.research.google.com/github/priyal6/DL/blob/main/self_attention.ipynb\" target=\"_parent\"><img src=\"https://colab.research.google.com/assets/colab-badge.svg\" alt=\"Open In Colab\"/></a>"
      ]
    },
    {
      "cell_type": "code",
      "execution_count": 1,
      "metadata": {
        "id": "IQ0W_3Zhu8Yz"
      },
      "outputs": [],
      "source": [
        "import torch\n",
        "import torch.nn as nn\n",
        "import torch.nn.functional as F\n"
      ]
    },
    {
      "cell_type": "code",
      "source": [
        "class SelfAttention(nn.Module):\n",
        "   def __init__(self, embed_size, heads):\n",
        "    super(SelfAttention , self).__init__()\n",
        "    self.embed_size = embed_size\n",
        "    self.heads = heads\n",
        "    self.head_dim = embed_size // heads\n",
        "\n",
        "    assert(\n",
        "        self.head_dim * heads == embed_size\n",
        "    ), \"Embedding size needs to be divisible by heads\"\n",
        "\n",
        "    self.query = nn.Linear(embed_size, embed_size)\n",
        "    self.key = nn.Linear(embed_size, embed_size)\n",
        "    self.value = nn.Linear(embed_size, embed_size)\n",
        "\n",
        "    self.fc_out = nn.Linear(embed_size, embed_size)\n",
        "\n",
        "    def forward(self,x):\n",
        "      N, seq_length, embed_size = x.shape\n",
        "\n",
        "      Q = self.query(x)\n",
        "      K = self.key(x)\n",
        "      V = self.value(x)\n",
        "\n",
        "      Q = Q.view(N, seq_length, self.heads, self.head_dim).transpose(1, 2)\n",
        "      K = K.view(N, seq_length, self.heads, self.head_dim).transpose(1, 2)\n",
        "      V = V.view(N, seq_length, self.heads, self.head_dim).transpose(1, 2)\n",
        "\n",
        "      energy = torch.matmul(Q, K.transpose(-2, -1)) / (self.head_dim ** 0.5)\n",
        "      attention = torch.softmax(energy, dim=-1)\n",
        "      out = torch.matmul(attention, V)\n",
        "\n",
        "      out = out.transpose(1, 2).contiguous().view(N, seq_length, embed_dim)\n",
        "      out = self.fc_out(out)\n",
        "      return out"
      ],
      "metadata": {
        "id": "ROQD9SGUvKCx"
      },
      "execution_count": 3,
      "outputs": []
    }
  ]
}