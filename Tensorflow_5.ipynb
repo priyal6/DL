{
  "nbformat": 4,
  "nbformat_minor": 0,
  "metadata": {
    "colab": {
      "provenance": [],
      "authorship_tag": "ABX9TyM865cbGhDKqTaxL+JnvTht",
      "include_colab_link": true
    },
    "kernelspec": {
      "name": "python3",
      "display_name": "Python 3"
    },
    "language_info": {
      "name": "python"
    }
  },
  "cells": [
    {
      "cell_type": "markdown",
      "metadata": {
        "id": "view-in-github",
        "colab_type": "text"
      },
      "source": [
        "<a href=\"https://colab.research.google.com/github/priyal6/DL/blob/main/Tensorflow_5.ipynb\" target=\"_parent\"><img src=\"https://colab.research.google.com/assets/colab-badge.svg\" alt=\"Open In Colab\"/></a>"
      ]
    },
    {
      "cell_type": "code",
      "execution_count": null,
      "metadata": {
        "id": "ep9EJAudfG_e"
      },
      "outputs": [],
      "source": [
        "import tensorflow as tf\n",
        "from tensorflow import keras\n",
        "from tensorflow.keras import layers, regularizers\n",
        "from tensorflow.keras.datasets import cifar10"
      ]
    },
    {
      "cell_type": "code",
      "source": [
        "(x_train, y_train), (x_test, y_test) = cifar10.load_data()\n",
        "x_train = x_train.astype(\"float32\") / 255.0\n",
        "x_test = x_test.astype(\"float32\") / 255.0\n"
      ],
      "metadata": {
        "colab": {
          "base_uri": "https://localhost:8080/"
        },
        "id": "gGyxlia6fdiv",
        "outputId": "f742aacc-55ec-4214-b734-c4837e1446b9"
      },
      "execution_count": null,
      "outputs": [
        {
          "output_type": "stream",
          "name": "stdout",
          "text": [
            "Downloading data from https://www.cs.toronto.edu/~kriz/cifar-10-python.tar.gz\n",
            "170498071/170498071 [==============================] - 3s 0us/step\n"
          ]
        }
      ]
    },
    {
      "cell_type": "code",
      "source": [
        "def my_model():\n",
        "    inputs = keras.Input(shape=(32, 32, 3))\n",
        "    x = layers.Conv2D(32, 3, padding=\"same\", kernel_regularizer=regularizers.l2(0.01),)(\n",
        "        inputs\n",
        "    )\n",
        "    x = layers.BatchNormalization()(x)\n",
        "    x = keras.activations.relu(x)\n",
        "    x = layers.MaxPooling2D()(x)\n",
        "    x = layers.Conv2D(64, 3, padding=\"same\", kernel_regularizer=regularizers.l2(0.01),)(\n",
        "        x\n",
        "    )\n",
        "    x = layers.BatchNormalization()(x)\n",
        "    x = keras.activations.relu(x)\n",
        "    x = layers.MaxPooling2D()(x)\n",
        "    x = layers.Conv2D(\n",
        "        128, 3, padding=\"same\", kernel_regularizer=regularizers.l2(0.01),\n",
        "    )(x)\n",
        "    x = layers.BatchNormalization()(x)\n",
        "    x = keras.activations.relu(x)\n",
        "    x = layers.Flatten()(x)\n",
        "    x = layers.Dense(64, activation=\"relu\", kernel_regularizer=regularizers.l2(0.01),)(\n",
        "        x\n",
        "    )\n",
        "    x = layers.Dropout(0.5)(x)\n",
        "    outputs = layers.Dense(10)(x)\n",
        "    model = keras.Model(inputs=inputs, outputs=outputs)\n",
        "    return model\n"
      ],
      "metadata": {
        "id": "N9dRpl0hfods"
      },
      "execution_count": null,
      "outputs": []
    },
    {
      "cell_type": "code",
      "source": [
        "model = my_model()\n",
        "model.compile(\n",
        "    loss=keras.losses.SparseCategoricalCrossentropy(from_logits=True),\n",
        "    optimizer=keras.optimizers.Adam(lr=3e-4),\n",
        "    metrics=[\"accuracy\"],\n",
        ")\n",
        "\n",
        "model.fit(x_train, y_train, batch_size=64, epochs=10, verbose=2)\n",
        "model.evaluate(x_test, y_test, batch_size=64, verbose=2)"
      ],
      "metadata": {
        "colab": {
          "base_uri": "https://localhost:8080/"
        },
        "id": "EOE3lS8GfvUJ",
        "outputId": "53b9d408-5e4e-4d08-eda8-f4bc11e2f0ed"
      },
      "execution_count": null,
      "outputs": [
        {
          "metadata": {
            "tags": null
          },
          "name": "stderr",
          "output_type": "stream",
          "text": [
            "WARNING:absl:`lr` is deprecated in Keras optimizer, please use `learning_rate` or use the legacy optimizer, e.g.,tf.keras.optimizers.legacy.Adam.\n"
          ]
        },
        {
          "output_type": "stream",
          "name": "stdout",
          "text": [
            "Epoch 1/10\n",
            "782/782 - 143s - loss: 2.5390 - accuracy: 0.1841 - 143s/epoch - 183ms/step\n",
            "Epoch 2/10\n",
            "782/782 - 142s - loss: 2.0936 - accuracy: 0.2024 - 142s/epoch - 182ms/step\n",
            "Epoch 3/10\n",
            "782/782 - 145s - loss: 2.0726 - accuracy: 0.2081 - 145s/epoch - 185ms/step\n",
            "Epoch 4/10\n",
            "782/782 - 140s - loss: 2.0583 - accuracy: 0.2100 - 140s/epoch - 179ms/step\n",
            "Epoch 5/10\n",
            "782/782 - 141s - loss: 2.0460 - accuracy: 0.2113 - 141s/epoch - 181ms/step\n",
            "Epoch 6/10\n",
            "782/782 - 142s - loss: 2.0345 - accuracy: 0.2137 - 142s/epoch - 182ms/step\n",
            "Epoch 7/10\n",
            "782/782 - 147s - loss: 2.0216 - accuracy: 0.2215 - 147s/epoch - 188ms/step\n",
            "Epoch 8/10\n",
            "782/782 - 139s - loss: 2.0140 - accuracy: 0.2195 - 139s/epoch - 177ms/step\n",
            "Epoch 9/10\n",
            "782/782 - 141s - loss: 2.0080 - accuracy: 0.2200 - 141s/epoch - 181ms/step\n",
            "Epoch 10/10\n",
            "782/782 - 139s - loss: 2.0090 - accuracy: 0.2206 - 139s/epoch - 177ms/step\n",
            "157/157 - 7s - loss: 2.4707 - accuracy: 0.2204 - 7s/epoch - 45ms/step\n"
          ]
        },
        {
          "output_type": "execute_result",
          "data": {
            "text/plain": [
              "[2.4707460403442383, 0.22040000557899475]"
            ]
          },
          "metadata": {},
          "execution_count": 4
        }
      ]
    }
  ]
}