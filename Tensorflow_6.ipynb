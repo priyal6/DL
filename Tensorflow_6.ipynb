{
  "cells": [
    {
      "cell_type": "markdown",
      "metadata": {
        "id": "view-in-github",
        "colab_type": "text"
      },
      "source": [
        "<a href=\"https://colab.research.google.com/github/priyal6/DL/blob/main/Tensorflow_6.ipynb\" target=\"_parent\"><img src=\"https://colab.research.google.com/assets/colab-badge.svg\" alt=\"Open In Colab\"/></a>"
      ]
    },
    {
      "cell_type": "code",
      "execution_count": null,
      "metadata": {
        "id": "e5sq-WFfgwiH"
      },
      "outputs": [],
      "source": [
        "import tensorflow as tf\n",
        "from tensorflow import keras\n",
        "from tensorflow.keras import layers\n",
        "from tensorflow.keras import Input\n",
        "from tensorflow.keras.datasets import mnist"
      ]
    },
    {
      "cell_type": "code",
      "execution_count": null,
      "metadata": {
        "id": "juAaAtpphJAD"
      },
      "outputs": [],
      "source": [
        "(x_train, y_train) , (x_test,y_test) =mnist.load_data()\n",
        "x_train = x_train.astype(\"float32\") /255.0\n",
        "x_test = x_test.astype(\"float32\") / 255.0"
      ]
    },
    {
      "cell_type": "code",
      "execution_count": null,
      "metadata": {
        "colab": {
          "background_save": true,
          "base_uri": "https://localhost:8080/"
        },
        "id": "vTBb2eywhvyc",
        "outputId": "c6745802-3b03-4cf1-9f72-9671ad26d1c1"
      },
      "outputs": [
        {
          "name": "stderr",
          "output_type": "stream",
          "text": [
            "WARNING:absl:`lr` is deprecated in Keras optimizer, please use `learning_rate` or use the legacy optimizer, e.g.,tf.keras.optimizers.legacy.Adam.\n"
          ]
        },
        {
          "name": "stdout",
          "output_type": "stream",
          "text": [
            "Epoch 1/10\n",
            "938/938 - 147s - loss: 0.2356 - accuracy: 0.9306 - 147s/epoch - 157ms/step\n",
            "Epoch 2/10\n",
            "938/938 - 141s - loss: 0.1362 - accuracy: 0.9614 - 141s/epoch - 151ms/step\n",
            "Epoch 3/10\n",
            "938/938 - 142s - loss: 0.1109 - accuracy: 0.9683 - 142s/epoch - 152ms/step\n",
            "Epoch 4/10\n",
            "938/938 - 141s - loss: 0.0972 - accuracy: 0.9726 - 141s/epoch - 151ms/step\n",
            "Epoch 5/10\n",
            "938/938 - 143s - loss: 0.0910 - accuracy: 0.9750 - 143s/epoch - 153ms/step\n",
            "Epoch 6/10\n",
            "938/938 - 143s - loss: 0.1115 - accuracy: 0.9689 - 143s/epoch - 152ms/step\n",
            "Epoch 7/10\n",
            "938/938 - 141s - loss: 0.0938 - accuracy: 0.9736 - 141s/epoch - 151ms/step\n",
            "Epoch 8/10\n",
            "938/938 - 142s - loss: 0.0771 - accuracy: 0.9783 - 142s/epoch - 152ms/step\n",
            "Epoch 9/10\n",
            "938/938 - 138s - loss: 0.0728 - accuracy: 0.9797 - 138s/epoch - 147ms/step\n",
            "Epoch 10/10\n",
            "938/938 - 135s - loss: 0.1799 - accuracy: 0.9444 - 135s/epoch - 144ms/step\n",
            "157/157 - 7s - loss: 0.0966 - accuracy: 0.9723 - 7s/epoch - 47ms/step\n"
          ]
        },
        {
          "data": {
            "text/plain": [
              "[0.09658963978290558, 0.9722999930381775]"
            ]
          },
          "execution_count": 14,
          "metadata": {},
          "output_type": "execute_result"
        }
      ],
      "source": [
        "model = keras.Sequential()\n",
        "model.add(keras.Input(shape=(None, 28)))\n",
        "model.add(\n",
        "    layers.SimpleRNN(512, return_sequences=True, activation = 'relu')\n",
        ")\n",
        "model.add(layers.SimpleRNN(256, activation='tanh'))\n",
        "model.add(layers.Dense(10))\n",
        "\n",
        "model.compile(\n",
        "    loss = keras.losses.SparseCategoricalCrossentropy(from_logits=True),\n",
        "    optimizer = keras.optimizers.Adam(lr=0.001),\n",
        "    metrics = [\"accuracy\"] )\n",
        "\n",
        "model.fit(x_train, y_train, batch_size=64, epochs=10,verbose=2)\n",
        "model.evaluate(x_test, y_test, batch_size=64,verbose=2)\n"
      ]
    },
    {
      "cell_type": "code",
      "execution_count": null,
      "metadata": {
        "id": "jAUB54rtkcs5",
        "colab": {
          "base_uri": "https://localhost:8080/"
        },
        "outputId": "f996bf1e-80b8-46f7-8655-8183a7272c8a"
      },
      "outputs": [
        {
          "output_type": "stream",
          "name": "stderr",
          "text": [
            "WARNING:absl:`lr` is deprecated in Keras optimizer, please use `learning_rate` or use the legacy optimizer, e.g.,tf.keras.optimizers.legacy.Adam.\n"
          ]
        },
        {
          "output_type": "stream",
          "name": "stdout",
          "text": [
            "Epoch 1/2\n",
            "938/938 - 412s - loss: 0.2552 - accuracy: 0.9149 - 412s/epoch - 440ms/step\n",
            "Epoch 2/2\n",
            "938/938 - 390s - loss: 0.0664 - accuracy: 0.9801 - 390s/epoch - 416ms/step\n",
            "157/157 - 20s - loss: 0.0518 - accuracy: 0.9838 - 20s/epoch - 130ms/step\n"
          ]
        },
        {
          "output_type": "execute_result",
          "data": {
            "text/plain": [
              "[0.05175979435443878, 0.9837999939918518]"
            ]
          },
          "metadata": {},
          "execution_count": 15
        }
      ],
      "source": [
        "model = keras.Sequential()\n",
        "model.add(keras.Input(shape=(None, 28)))\n",
        "model.add(\n",
        "    layers.GRU(512, return_sequences=True, activation = 'relu')\n",
        ")\n",
        "model.add(layers.GRU(256, activation='tanh'))\n",
        "model.add(layers.Dense(10))\n",
        "\n",
        "model.compile(\n",
        "    loss = keras.losses.SparseCategoricalCrossentropy(from_logits=True),\n",
        "    optimizer = keras.optimizers.Adam(lr=0.001),\n",
        "    metrics = [\"accuracy\"] )\n",
        "\n",
        "model.fit(x_train, y_train, batch_size=64, epochs=2,verbose=2)\n",
        "model.evaluate(x_test, y_test, batch_size=64,verbose=2)"
      ]
    },
    {
      "cell_type": "code",
      "execution_count": null,
      "metadata": {
        "id": "m5d-gheii3Ka",
        "colab": {
          "base_uri": "https://localhost:8080/"
        },
        "outputId": "b04d50fa-a752-43a3-eed0-7c9a545b0e35"
      },
      "outputs": [
        {
          "output_type": "stream",
          "name": "stderr",
          "text": [
            "WARNING:absl:`lr` is deprecated in Keras optimizer, please use `learning_rate` or use the legacy optimizer, e.g.,tf.keras.optimizers.legacy.Adam.\n"
          ]
        },
        {
          "output_type": "stream",
          "name": "stdout",
          "text": [
            "938/938 - 269s - loss: 0.2975 - accuracy: 0.9031 - 269s/epoch - 287ms/step\n",
            "157/157 - 14s - loss: 0.0988 - accuracy: 0.9679 - 14s/epoch - 92ms/step\n"
          ]
        },
        {
          "output_type": "execute_result",
          "data": {
            "text/plain": [
              "[0.09883101284503937, 0.9678999781608582]"
            ]
          },
          "metadata": {},
          "execution_count": 16
        }
      ],
      "source": [
        "model = keras.Sequential()\n",
        "model.add(keras.Input(shape=(None, 28)))\n",
        "model.add(\n",
        "    layers.LSTM(256, return_sequences=True, activation = 'relu')\n",
        ")\n",
        "model.add(layers.LSTM(256, activation='tanh'))\n",
        "model.add(layers.Dense(10))\n",
        "\n",
        "model.compile(\n",
        "    loss = keras.losses.SparseCategoricalCrossentropy(from_logits=True),\n",
        "    optimizer = keras.optimizers.Adam(lr=0.001),\n",
        "    metrics = [\"accuracy\"] )\n",
        "\n",
        "model.fit(x_train, y_train, batch_size=64, epochs=1,verbose=2)\n",
        "model.evaluate(x_test, y_test, batch_size=64,verbose=2)"
      ]
    }
  ],
  "metadata": {
    "colab": {
      "provenance": [],
      "authorship_tag": "ABX9TyO/g026Svm2EVo0linAGaaE",
      "include_colab_link": true
    },
    "kernelspec": {
      "display_name": "Python 3",
      "name": "python3"
    },
    "language_info": {
      "name": "python"
    }
  },
  "nbformat": 4,
  "nbformat_minor": 0
}